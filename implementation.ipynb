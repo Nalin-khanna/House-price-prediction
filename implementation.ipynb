{
  "nbformat": 4,
  "nbformat_minor": 0,
  "metadata": {
    "colab": {
      "provenance": [],
      "include_colab_link": true
    },
    "kernelspec": {
      "name": "python3",
      "display_name": "Python 3"
    },
    "language_info": {
      "name": "python"
    }
  },
  "cells": [
    {
      "cell_type": "markdown",
      "metadata": {
        "id": "view-in-github",
        "colab_type": "text"
      },
      "source": [
        "<a href=\"https://colab.research.google.com/github/Nalin-khanna/nalin/blob/main/implementation.ipynb\" target=\"_parent\"><img src=\"https://colab.research.google.com/assets/colab-badge.svg\" alt=\"Open In Colab\"/></a>"
      ]
    },
    {
      "cell_type": "markdown",
      "source": [
        "# ***Problem statement***\n",
        "\n",
        "\n",
        "1.   you are provided with a .csv file which contains experience of the employee (in months) and the salary of the employee (in thousand).\n",
        "2.   Your task is to help the employer in predicting the salary he has to give to a employee based on his past experience\n",
        "3. For this you need to understand the basic principle and functionining of linear regression and complete the functions below.\n",
        "4. IT IS IMPORTANT TO COMPLETE EVERY BLOCK OF CODE IN THIS COLAB FILE ."
      ],
      "metadata": {
        "id": "KNIPiXrxZqfO"
      }
    },
    {
      "cell_type": "markdown",
      "source": [
        "# **Packages**"
      ],
      "metadata": {
        "id": "8qeCfaccZsaZ"
      }
    },
    {
      "cell_type": "code",
      "source": [
        "import numpy as np\n",
        "import pandas as pd\n",
        "import matplotlib.pyplot as plt\n",
        "import math\n",
        "import copy"
      ],
      "metadata": {
        "id": "ebvnIRpvMJYB"
      },
      "execution_count": 2,
      "outputs": []
    },
    {
      "cell_type": "markdown",
      "source": [
        " **import data file**\n",
        "\n",
        " **clean the data upto 2 decimal places for both experience and salary columns**\n",
        "\n",
        "**test size = 20%**\n",
        "\n",
        "**reshape the values by using concept of feature matrix**"
      ],
      "metadata": {
        "id": "N-X4Gc1vZ1uV"
      }
    },
    {
      "cell_type": "code",
      "source": [
        "\n",
        "#implement this code on your own\n",
        "df = pd.read_csv('Experience-Salary.csv')\n",
        "#  code starts here\n",
        "\n",
        "# Clean the columns to display up to two decimal places\n",
        "df['exp(in months)'] = df['exp(in months)'].round(2)\n",
        "df['salary(in thousands)'] = df['salary(in thousands)'].round(2)\n",
        "from sklearn.model_selection import train_test_split\n",
        "# Print the cleaned DataFrame\n",
        "print(df)\n",
        "from sklearn.model_selection import train_test_split\n",
        "X = df[['exp(in months)']]  # Features\n",
        "y = df['salary(in thousands)']        # Target variable\n",
        "\n",
        "# Split the data into training and testing sets with a test size of 20%\n",
        "X_train, X_test, y_train, y_test = train_test_split(X, y, test_size=0.2, random_state=40)\n",
        "\n",
        "\n",
        "# code ends here"
      ],
      "metadata": {
        "id": "a0XfWVdgMVEi",
        "colab": {
          "base_uri": "https://localhost:8080/"
        },
        "outputId": "5af937b5-5974-439b-d902-5cedee4ba87d"
      },
      "execution_count": 6,
      "outputs": [
        {
          "output_type": "stream",
          "name": "stdout",
          "text": [
            "     exp(in months)  salary(in thousands)\n",
            "0             18.29                 16.52\n",
            "1             17.02                 11.67\n",
            "2             26.34                 23.17\n",
            "3             19.11                 20.88\n",
            "4             27.74                 23.17\n",
            "..              ...                   ...\n",
            "995           22.16                 24.67\n",
            "996           32.27                 24.16\n",
            "997           17.04                 19.90\n",
            "998           25.22                 21.97\n",
            "999           16.42                 19.63\n",
            "\n",
            "[1000 rows x 2 columns]\n"
          ]
        }
      ]
    },
    {
      "cell_type": "code",
      "source": [
        "# Run this code without making any changes\n",
        "\n",
        "\n",
        "# !!!!       IMP   !!!!!!!\n",
        "# X_train refers to the training data ( experience) for the model\n",
        "# y_train refers to the training data (salary )   for the model\n",
        "\n",
        "\n",
        "\n",
        "\n",
        "print(\"Type of x_train:\",type(X_train))\n",
        "print(\"First five elements of x_train are:\\n\", X_train[:5])\n",
        "print(\"Type of y_train:\",type(y_train))\n",
        "print(\"First five elements of y_train are:\\n\", y_train[:5])\n",
        "print ('The shape of x_train is:', X_train.shape)\n",
        "print ('The shape of y_train is: ', y_train.shape)\n",
        "print ('Number of training examples (m):', len(X_train))"
      ],
      "metadata": {
        "id": "k4SpESsHaBfV",
        "colab": {
          "base_uri": "https://localhost:8080/"
        },
        "outputId": "244a312a-e4e6-46ed-b1a5-5eaf5e76bf87"
      },
      "execution_count": 49,
      "outputs": [
        {
          "output_type": "stream",
          "name": "stdout",
          "text": [
            "Type of x_train: <class 'pandas.core.frame.DataFrame'>\n",
            "First five elements of x_train are:\n",
            "      exp(in months)\n",
            "970           34.52\n",
            "137            3.57\n",
            "82            28.65\n",
            "188           18.85\n",
            "358           30.19\n",
            "Type of y_train: <class 'pandas.core.series.Series'>\n",
            "First five elements of y_train are:\n",
            " 970    33.86\n",
            "137    17.60\n",
            "82     25.74\n",
            "188    25.60\n",
            "358    31.18\n",
            "Name: salary(in thousands), dtype: float64\n",
            "The shape of x_train is: (800, 1)\n",
            "The shape of y_train is:  (800,)\n",
            "Number of training examples (m): 800\n"
          ]
        }
      ]
    },
    {
      "cell_type": "markdown",
      "source": [
        " Plot the data using scatter plot\n",
        "\n"
      ],
      "metadata": {
        "id": "UbvfFHJeaLdt"
      }
    },
    {
      "cell_type": "code",
      "source": [
        "#plot data for visualisation\n",
        "\n",
        "###code starts here\n",
        "\n",
        "# Plotting for the training set\n",
        "plt.scatter(X_train_feature_matrix, y_train, color='blue', label='Training Data')\n",
        "\n",
        "# Plotting for the testing set\n",
        "plt.scatter(X_test_feature_matrix, y_test, color='red', label='Testing Data')\n",
        "\n",
        "# Adding labels and title\n",
        "plt.xlabel('Experience (months)')\n",
        "plt.ylabel('Salary (thousand)')\n",
        "plt.title('Experience vs Salary')\n",
        "\n",
        "# Adding a legend\n",
        "plt.legend()\n",
        "\n",
        "# Display the plot\n",
        "plt.show()\n",
        "\n",
        "\n",
        "\n",
        "###code ends here"
      ],
      "metadata": {
        "id": "d2m_1Ls_NZEX",
        "colab": {
          "base_uri": "https://localhost:8080/",
          "height": 472
        },
        "outputId": "8d788adb-0e62-4389-d003-64b2205127a7"
      },
      "execution_count": 8,
      "outputs": [
        {
          "output_type": "display_data",
          "data": {
            "text/plain": [
              "<Figure size 640x480 with 1 Axes>"
            ],
            "image/png": "[encoded data removed]"
          },
          "metadata": {}
        }
      ]
    },
    {
      "cell_type": "code",
      "source": [
        "# Convert X_train to a numpy array and reshape it if necessary\n",
        "X_train_array = X_train.to_numpy()\n",
        "\n",
        "# Convert y_train to a numpy array and reshape it\n",
        "y_train_array = y_train.to_numpy().reshape(-1, 1)\n",
        "\n",
        "# Check the shapes of X_train_array and y_train_array\n",
        "print(\"X_train_array shape:\", X_train_array.shape)\n",
        "print(\"y_train_array shape:\", y_train_array.shape)\n"
      ],
      "metadata": {
        "colab": {
          "base_uri": "https://localhost:8080/"
        },
        "id": "ZmovQOA49fMP",
        "outputId": "79ec3dee-a12d-46bb-97e1-55d2d73609d8"
      },
      "execution_count": 51,
      "outputs": [
        {
          "output_type": "stream",
          "name": "stdout",
          "text": [
            "X_train_array shape: (800, 1)\n",
            "y_train_array shape: (800, 1)\n"
          ]
        }
      ]
    },
    {
      "cell_type": "markdown",
      "source": [
        "**Implementation 1**\n",
        "\n",
        "**complete the compute_cost() function below to compute the cost  𝐽(𝑤,𝑏)\n",
        " .**"
      ],
      "metadata": {
        "id": "Mvsnf95XaSUS"
      }
    },
    {
      "cell_type": "code",
      "source": [
        "\n",
        "\n",
        "\n",
        "def compute_cost(x, y, w, b):\n",
        "    \"\"\"\n",
        "    Computes the cost function for linear regression.\n",
        "\n",
        "    Args:\n",
        "        x (ndarray): Shape (m,) Input to the model (experience in months)\n",
        "        y (ndarray): Shape (m,) Label (Actual salaries)\n",
        "        w, b (scalar): Parameters of the model\n",
        "\n",
        "    Returns\n",
        "        total_cost (float): The cost of using w,b as the parameters for linear regression\n",
        "               to fit the data points in x and y\n",
        "    \"\"\"\n",
        "    # number of training examples\n",
        "    m = x.shape[0]\n",
        "\n",
        "    # You need to return this variable correctly\n",
        "    total_cost = 0\n",
        "\n",
        "    ### START CODE HERE ###\n",
        "    y_pred = np.dot(x, w) + b\n",
        "    total_cost = np.sum((y_pred - y) ** 2) / (2 * m)  # Mean Squared Error (MSE) formula\n",
        "\n",
        "    ### END CODE HERE ###\n",
        "\n",
        "    return total_cost"
      ],
      "metadata": {
        "id": "5xjs02htOBkv"
      },
      "execution_count": 52,
      "outputs": []
    },
    {
      "cell_type": "code",
      "source": [
        "# Compute cost with some initial values for paramaters w, b\n",
        "# Do not change the values in this code , simply run this block\n",
        "initial_w = 0.9998\n",
        "initial_b = 1\n",
        "\n",
        "\n",
        "cost = compute_cost(X_train_array, y_train_array, initial_w, initial_b)\n",
        "print(type(cost))\n",
        "print(cost)\n",
        "\n",
        "\n",
        "#output for cost should be around 14.406"
      ],
      "metadata": {
        "id": "iSt1tnddOH9b",
        "colab": {
          "base_uri": "https://localhost:8080/"
        },
        "outputId": "5c4ae8c1-b76e-48bb-fbbe-e252c95a7d10"
      },
      "execution_count": 53,
      "outputs": [
        {
          "output_type": "stream",
          "name": "stdout",
          "text": [
            "<class 'numpy.float64'>\n",
            "14.290505324602705\n"
          ]
        }
      ]
    },
    {
      "cell_type": "markdown",
      "source": [
        "**Imlementation 2**\n",
        "\n",
        "\n",
        "**implement a function called compute_gradient which calculates  ∂𝐽(𝑤)∂𝑤\n",
        " ,  ∂𝐽(𝑤)∂𝑏**"
      ],
      "metadata": {
        "id": "hHtMa0UxavUE"
      }
    },
    {
      "cell_type": "code",
      "source": [
        "def compute_gradient(x, y, w, b):\n",
        "    \"\"\"\n",
        "    Computes the gradient for linear regression\n",
        "    Args:\n",
        "      x (ndarray): Shape (m,) Input to the model (Population of cities)\n",
        "      y (ndarray): Shape (m,) Label (Actual profits for the cities)\n",
        "      w, b (scalar): Parameters of the model\n",
        "    Returns\n",
        "      dj_dw (scalar): The gradient of the cost w.r.t. the parameters w\n",
        "      dj_db (scalar): The gradient of the cost w.r.t. the parameter b\n",
        "     \"\"\"\n",
        "\n",
        "    # Number of training examples\n",
        "    m = x.shape[0]\n",
        "    dj_dw = 0\n",
        "    dj_db = 0\n",
        "\n",
        "    ### START CODE HERE ###\n",
        "    # Compute predictions\n",
        "    y_pred = np.dot(x, w) + b\n",
        "    dj_dw = np.dot(x.T, (y_pred - y)) / m\n",
        "    dj_db = np.sum(y_pred - y) / m\n",
        "\n",
        "    ### END CODE HERE ###\n",
        "\n",
        "    return dj_dw, dj_db"
      ],
      "metadata": {
        "id": "sPdeLd36OprD"
      },
      "execution_count": 54,
      "outputs": []
    },
    {
      "cell_type": "code",
      "source": [
        "initial_w = 0.998\n",
        "initial_b = 1\n",
        "y_train_array = y_train.to_numpy().reshape(-1, 1)\n",
        "tmp_dj_dw, tmp_dj_db = compute_gradient(X_train_array, y_train_array, initial_w, initial_b)\n",
        "print('Gradient at initial w, b (zeros):', tmp_dj_dw, tmp_dj_db)\n",
        "\n",
        "# output should be\n",
        "#Gradient at initial w, b (zeros): [22.08482317] [0.36802405]"
      ],
      "metadata": {
        "id": "HpFMpdz3apMN",
        "colab": {
          "base_uri": "https://localhost:8080/"
        },
        "outputId": "2a1acac5-e68e-4382-80da-f779612af1c6"
      },
      "execution_count": 55,
      "outputs": [
        {
          "output_type": "stream",
          "name": "stdout",
          "text": [
            "Gradient at initial w, b (zeros): [[24.09550935]] 0.46576320000000004\n"
          ]
        }
      ]
    },
    {
      "cell_type": "code",
      "source": [
        "test_w = 0.2\n",
        "test_b = 0.2\n",
        "y_train_array = y_train.to_numpy().reshape(-1, 1)\n",
        "tmp_dj_dw, tmp_dj_db = compute_gradient(X_train_array, y_train_array, test_w, test_b)\n",
        "\n",
        "print('Gradient at test w, b:', tmp_dj_dw, tmp_dj_db)\n",
        "\n",
        "#output should be\n",
        "#Gradient at test w, b: [-600.2060557] [-21.2052925]"
      ],
      "metadata": {
        "id": "LmTTHbvta8Jb",
        "colab": {
          "base_uri": "https://localhost:8080/"
        },
        "outputId": "2ff372c5-e829-4b07-b575-a040d81e3e8b"
      },
      "execution_count": 56,
      "outputs": [
        {
          "output_type": "stream",
          "name": "stdout",
          "text": [
            "Gradient at test w, b: [[-606.04361607]] -21.266495\n"
          ]
        }
      ]
    },
    {
      "cell_type": "markdown",
      "source": [
        "**!! do not change the below function just run it**"
      ],
      "metadata": {
        "id": "TicRvanCiaUd"
      }
    },
    {
      "cell_type": "code",
      "source": [
        "\n",
        "def gradient_descent(x, y, w_in, b_in, cost_function, gradient_function, alpha, num_iters):\n",
        "    m = len(x)\n",
        "    J_history = []\n",
        "    w_history = []\n",
        "    w = copy.deepcopy(w_in)\n",
        "    b = b_in\n",
        "    for i in range(num_iters):\n",
        "        dj_dw, dj_db = gradient_function(x, y, w, b )\n",
        "        w = w - alpha * dj_dw\n",
        "        b = b - alpha * dj_db\n",
        "        if i<100000:\n",
        "            cost =  cost_function(x, y, w, b)\n",
        "            J_history.append(cost)\n",
        "        if i% math.ceil(num_iters/10) == 0:\n",
        "            w_history.append(w)\n",
        "            print(f\"Iteration {i:4}: Cost {float(J_history[-1]):8.2f}   \")\n",
        "    return w, b, J_history, w_history"
      ],
      "metadata": {
        "id": "GE4SDXh4bB1X"
      },
      "execution_count": 57,
      "outputs": []
    },
    {
      "cell_type": "markdown",
      "source": [
        " **Now let's run the gradient descent algorithm above to learn the parameters for our dataset.**"
      ],
      "metadata": {
        "id": "Bc1f_EKlbGW4"
      }
    },
    {
      "cell_type": "code",
      "source": [
        "# you can alter the values of iterations, alpha to get the minimum cost and minimum values for w and b\n",
        "\n",
        "\n",
        "# initialize fitting parameters. Recall that the shape of w is (n,)\n",
        "initial_w = 0.\n",
        "initial_b = 0.\n",
        "\n",
        "# some gradient descent settings\n",
        "iterations = 2500\n",
        "alpha = 0.0001\n",
        "\n",
        "w,b,J_history,w_history = gradient_descent(X_train_array ,y_train_array, initial_w, initial_b,\n",
        "                     compute_cost, compute_gradient, alpha, iterations)\n",
        "print(\"w,b found by gradient descent:\", w, b)"
      ],
      "metadata": {
        "id": "_hzhg0bdbGi9",
        "colab": {
          "base_uri": "https://localhost:8080/"
        },
        "outputId": "d3053788-a9e2-4429-ecf7-00c831d70aaa"
      },
      "execution_count": 59,
      "outputs": [
        {
          "output_type": "stream",
          "name": "stdout",
          "text": [
            "Iteration    0: Cost   340.36   \n",
            "Iteration  250: Cost    14.26   \n",
            "Iteration  500: Cost    14.25   \n",
            "Iteration  750: Cost    14.25   \n",
            "Iteration 1000: Cost    14.24   \n",
            "Iteration 1250: Cost    14.24   \n",
            "Iteration 1500: Cost    14.23   \n",
            "Iteration 1750: Cost    14.23   \n",
            "Iteration 2000: Cost    14.22   \n",
            "Iteration 2250: Cost    14.22   \n",
            "w,b found by gradient descent: [[0.9957595]] 0.14719275786835498\n"
          ]
        }
      ]
    },
    {
      "cell_type": "markdown",
      "source": [
        "**Train the model**"
      ],
      "metadata": {
        "id": "3cT9bBALbN_W"
      }
    },
    {
      "cell_type": "code",
      "source": [
        "# execute the code to predict the output values on the given imput of numpy arrays\n",
        "# do not alter the code just execute it\n",
        "m = X_train.shape[0]\n",
        "predicted = np.zeros(m)\n",
        "\n",
        "for i in range(m):\n",
        "    predicted[i] = w * X_train_array[i] + b"
      ],
      "metadata": {
        "id": "qAlMyoy1bOLi",
        "colab": {
          "base_uri": "https://localhost:8080/"
        },
        "outputId": "8b80bae6-519e-4796-e66b-70986ab08bfb"
      },
      "execution_count": 62,
      "outputs": [
        {
          "output_type": "stream",
          "name": "stderr",
          "text": [
            "<ipython-input-62-b928b5f99cdd>:7: DeprecationWarning: Conversion of an array with ndim > 0 to a scalar is deprecated, and will error in future. Ensure you extract a single element from your array before performing this operation. (Deprecated NumPy 1.25.)\n",
            "  predicted[i] = w * X_train_array[i] + b\n"
          ]
        }
      ]
    },
    {
      "cell_type": "markdown",
      "source": [
        "**plot the predicted values to see the linear fit.**"
      ],
      "metadata": {
        "id": "XbgzCEZbi4rW"
      }
    },
    {
      "cell_type": "code",
      "source": [
        "# Plot the linear fit\n",
        "\n",
        "###code starts here\n",
        "\n",
        "plt.scatter(X_train_array, y_train_array, color='blue', label='Actual')\n",
        "plt.plot(X_train_array, predicted, color='red', label='Predicted')\n",
        "plt.xlabel('Feature (X_train_array)')\n",
        "plt.ylabel('Target (y_train_array)')\n",
        "plt.title('Linear Regression Fit')\n",
        "plt.legend()\n",
        "plt.show()\n",
        "###code ends here\n"
      ],
      "metadata": {
        "id": "PywvzENQbSW6",
        "colab": {
          "base_uri": "https://localhost:8080/",
          "height": 472
        },
        "outputId": "0c63fafe-b867-4d8c-db58-4164fadef329"
      },
      "execution_count": 63,
      "outputs": [
        {
          "output_type": "display_data",
          "data": {
            "text/plain": [
              "<Figure size 640x480 with 1 Axes>"
            ],
            "image/png": "[encoded data removed]"
          },
          "metadata": {}
        }
      ]
    },
    {
      "cell_type": "markdown",
      "source": [
        "**output on input values**\n",
        "\n",
        "**Predict output on input values(in months) [17.0,50.0]**"
      ],
      "metadata": {
        "id": "tbAiwo3BbZIW"
      }
    },
    {
      "cell_type": "code",
      "source": [
        "###code starts here\n",
        "\n",
        "# Define the input values\n",
        "input_values = [17.0, 50.0]\n",
        "\n",
        "# Predict the output for the input values\n",
        "predicted_outputs = [w * input_value + b for input_value in input_values]\n",
        "\n",
        "print(\"Predicted outputs:\", predicted_outputs)\n",
        "\n",
        "\n",
        "\n",
        "\n",
        "###code ends here"
      ],
      "metadata": {
        "id": "tbV22QAIbbtU",
        "colab": {
          "base_uri": "https://localhost:8080/"
        },
        "outputId": "292d5323-44ba-41a6-f7c5-e81ec1784f72"
      },
      "execution_count": 64,
      "outputs": [
        {
          "output_type": "stream",
          "name": "stdout",
          "text": [
            "Predicted outputs: [array([[17.07510431]]), array([[49.93516791]])]\n"
          ]
        }
      ]
    }
  ]
}